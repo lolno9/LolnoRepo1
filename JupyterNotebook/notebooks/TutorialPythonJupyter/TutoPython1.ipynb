{
 "cells": [
  {
   "cell_type": "markdown",
   "metadata": {},
   "source": [
    "# Python Tutorial"
   ]
  },
  {
   "cell_type": "markdown",
   "metadata": {},
   "source": [
    "Abrimos una consola de comandos (cmd, powershell) y comprobamos si tenemos python instalado"
   ]
  },
  {
   "cell_type": "code",
   "execution_count": 1,
   "metadata": {},
   "outputs": [
    {
     "name": "stdout",
     "output_type": "stream",
     "text": [
      "Python 3.9.2\r\n"
     ]
    }
   ],
   "source": [
    "!python --version"
   ]
  },
  {
   "cell_type": "markdown",
   "metadata": {},
   "source": [
    "Tambien podemos usar la version corta del comando:"
   ]
  },
  {
   "cell_type": "code",
   "execution_count": 2,
   "metadata": {},
   "outputs": [
    {
     "name": "stdout",
     "output_type": "stream",
     "text": [
      "/bin/bash: línea 1: py: orden no encontrada\r\n"
     ]
    }
   ],
   "source": [
    "!py --version"
   ]
  },
  {
   "cell_type": "markdown",
   "metadata": {},
   "source": [
    "Si no tenemos python instalado, iremos a https://www.python.org/downloads/ y nos descargamos la ultima version disponible para nuestro S.O."
   ]
  },
  {
   "cell_type": "markdown",
   "metadata": {},
   "source": [
    "Seguidamente, si tampoco lo tenemos instalado, instalaremos Visual Studio Code desde el siguiente enlace:\n",
    "https://code.visualstudio.com/"
   ]
  },
  {
   "cell_type": "markdown",
   "metadata": {},
   "source": [
    "Una vez instalado python y VSCode debemos instalar la extension para python de VSCode.\n",
    "Para ello, dentro de VSCode, en la barra lateral izquierda, entramos en extensiones (la penultima opcion), buscamos Python y descargamos la opcion con la siguiente descripcion:"
   ]
  },
  {
   "cell_type": "markdown",
   "metadata": {},
   "source": [
    "Python \n",
    "IntelliSense (Pylance), Linting, Debugging (multi-threaded, remote), Jupyter Notebooks, code fromatting, refactoring, unit tests, and more"
   ]
  },
  {
   "cell_type": "markdown",
   "metadata": {},
   "source": [
    "Una vez instalado todo (la extension para VSCode incluye soporte para Jupyter Notebooks dentro de VSCode), si queremos soporte para ipynb (Jupyter Notebooks) por separado de VSCode, debemos abrir un terminal y ejecutar el siguiente comando:"
   ]
  },
  {
   "cell_type": "code",
   "execution_count": 3,
   "metadata": {},
   "outputs": [
    {
     "name": "stdout",
     "output_type": "stream",
     "text": [
      "Looking in indexes: https://pypi.org/simple, https://www.piwheels.org/simple\n",
      "Requirement already satisfied: jupyter in /home/lolnodleech/.local/lib/python3.9/site-packages (1.0.0)\n",
      "Requirement already satisfied: qtconsole in /home/lolnodleech/.local/lib/python3.9/site-packages (from jupyter) (5.3.1)\n",
      "Requirement already satisfied: nbconvert in /home/lolnodleech/.local/lib/python3.9/site-packages (from jupyter) (6.5.0)\n",
      "Requirement already satisfied: ipykernel in /home/lolnodleech/.local/lib/python3.9/site-packages (from jupyter) (6.15.0)\n",
      "Requirement already satisfied: jupyter-console in /home/lolnodleech/.local/lib/python3.9/site-packages (from jupyter) (6.4.4)\n",
      "Requirement already satisfied: notebook in /home/lolnodleech/.local/lib/python3.9/site-packages (from jupyter) (6.4.12)\n",
      "Requirement already satisfied: ipywidgets in /home/lolnodleech/.local/lib/python3.9/site-packages (from jupyter) (7.7.1)\n",
      "Requirement already satisfied: jupyter-client>=6.1.12 in /home/lolnodleech/.local/lib/python3.9/site-packages (from ipykernel->jupyter) (7.3.4)\n",
      "Requirement already satisfied: nest-asyncio in /home/lolnodleech/.local/lib/python3.9/site-packages (from ipykernel->jupyter) (1.5.5)\n",
      "Requirement already satisfied: ipython>=7.23.1 in /home/lolnodleech/.local/lib/python3.9/site-packages (from ipykernel->jupyter) (8.4.0)\n",
      "Requirement already satisfied: packaging in /home/lolnodleech/.local/lib/python3.9/site-packages (from ipykernel->jupyter) (21.3)\n",
      "Requirement already satisfied: tornado>=6.1 in /home/lolnodleech/.local/lib/python3.9/site-packages (from ipykernel->jupyter) (6.1)\n",
      "Requirement already satisfied: matplotlib-inline>=0.1 in /home/lolnodleech/.local/lib/python3.9/site-packages (from ipykernel->jupyter) (0.1.3)\n",
      "Requirement already satisfied: psutil in /usr/lib/python3/dist-packages (from ipykernel->jupyter) (5.8.0)\n",
      "Requirement already satisfied: traitlets>=5.1.0 in /home/lolnodleech/.local/lib/python3.9/site-packages (from ipykernel->jupyter) (5.3.0)\n",
      "Requirement already satisfied: debugpy>=1.0 in /home/lolnodleech/.local/lib/python3.9/site-packages (from ipykernel->jupyter) (1.6.0)\n",
      "Requirement already satisfied: pyzmq>=17 in /home/lolnodleech/.local/lib/python3.9/site-packages (from ipykernel->jupyter) (23.2.0)\n",
      "Requirement already satisfied: prompt-toolkit!=3.0.0,!=3.0.1,<3.1.0,>=2.0.0 in /home/lolnodleech/.local/lib/python3.9/site-packages (from ipython>=7.23.1->ipykernel->jupyter) (3.0.30)\n",
      "Requirement already satisfied: setuptools>=18.5 in /usr/lib/python3/dist-packages (from ipython>=7.23.1->ipykernel->jupyter) (52.0.0)\n",
      "Requirement already satisfied: pickleshare in /home/lolnodleech/.local/lib/python3.9/site-packages (from ipython>=7.23.1->ipykernel->jupyter) (0.7.5)\n",
      "Requirement already satisfied: stack-data in /home/lolnodleech/.local/lib/python3.9/site-packages (from ipython>=7.23.1->ipykernel->jupyter) (0.3.0)\n",
      "Requirement already satisfied: decorator in /home/lolnodleech/.local/lib/python3.9/site-packages (from ipython>=7.23.1->ipykernel->jupyter) (5.1.1)\n",
      "Requirement already satisfied: pexpect>4.3 in /usr/lib/python3/dist-packages (from ipython>=7.23.1->ipykernel->jupyter) (4.8.0)\n",
      "Requirement already satisfied: pygments>=2.4.0 in /usr/lib/python3/dist-packages (from ipython>=7.23.1->ipykernel->jupyter) (2.7.1)\n",
      "Requirement already satisfied: jedi>=0.16 in /usr/lib/python3/dist-packages (from ipython>=7.23.1->ipykernel->jupyter) (0.18.0)\n",
      "Requirement already satisfied: backcall in /home/lolnodleech/.local/lib/python3.9/site-packages (from ipython>=7.23.1->ipykernel->jupyter) (0.2.0)\n",
      "Requirement already satisfied: python-dateutil>=2.8.2 in /home/lolnodleech/.local/lib/python3.9/site-packages (from jupyter-client>=6.1.12->ipykernel->jupyter) (2.8.2)\n",
      "Requirement already satisfied: entrypoints in /home/lolnodleech/.local/lib/python3.9/site-packages (from jupyter-client>=6.1.12->ipykernel->jupyter) (0.4)\n",
      "Requirement already satisfied: jupyter-core>=4.9.2 in /home/lolnodleech/.local/lib/python3.9/site-packages (from jupyter-client>=6.1.12->ipykernel->jupyter) (4.10.0)\n",
      "Requirement already satisfied: wcwidth in /home/lolnodleech/.local/lib/python3.9/site-packages (from prompt-toolkit!=3.0.0,!=3.0.1,<3.1.0,>=2.0.0->ipython>=7.23.1->ipykernel->jupyter) (0.2.5)\n",
      "Requirement already satisfied: six>=1.5 in /usr/lib/python3/dist-packages (from python-dateutil>=2.8.2->jupyter-client>=6.1.12->ipykernel->jupyter) (1.16.0)\n",
      "Requirement already satisfied: widgetsnbextension~=3.6.0 in /home/lolnodleech/.local/lib/python3.9/site-packages (from ipywidgets->jupyter) (3.6.1)\n",
      "Requirement already satisfied: jupyterlab-widgets>=1.0.0 in /home/lolnodleech/.local/lib/python3.9/site-packages (from ipywidgets->jupyter) (1.1.1)\n",
      "Requirement already satisfied: ipython-genutils~=0.2.0 in /home/lolnodleech/.local/lib/python3.9/site-packages (from ipywidgets->jupyter) (0.2.0)\n",
      "Requirement already satisfied: terminado>=0.8.3 in /home/lolnodleech/.local/lib/python3.9/site-packages (from notebook->jupyter) (0.15.0)\n",
      "Requirement already satisfied: prometheus-client in /home/lolnodleech/.local/lib/python3.9/site-packages (from notebook->jupyter) (0.14.1)\n",
      "Requirement already satisfied: argon2-cffi in /home/lolnodleech/.local/lib/python3.9/site-packages (from notebook->jupyter) (21.3.0)\n",
      "Requirement already satisfied: jinja2 in /home/lolnodleech/.local/lib/python3.9/site-packages (from notebook->jupyter) (3.1.2)\n",
      "Requirement already satisfied: nbformat in /home/lolnodleech/.local/lib/python3.9/site-packages (from notebook->jupyter) (5.4.0)\n",
      "Requirement already satisfied: Send2Trash>=1.8.0 in /home/lolnodleech/.local/lib/python3.9/site-packages (from notebook->jupyter) (1.8.0)\n",
      "Requirement already satisfied: bleach in /home/lolnodleech/.local/lib/python3.9/site-packages (from nbconvert->jupyter) (5.0.1)\n",
      "Requirement already satisfied: tinycss2 in /home/lolnodleech/.local/lib/python3.9/site-packages (from nbconvert->jupyter) (1.1.1)\n",
      "Requirement already satisfied: defusedxml in /home/lolnodleech/.local/lib/python3.9/site-packages (from nbconvert->jupyter) (0.7.1)\n",
      "Requirement already satisfied: mistune<2,>=0.8.1 in /home/lolnodleech/.local/lib/python3.9/site-packages (from nbconvert->jupyter) (0.8.4)\n",
      "Requirement already satisfied: pandocfilters>=1.4.1 in /home/lolnodleech/.local/lib/python3.9/site-packages (from nbconvert->jupyter) (1.5.0)\n",
      "Requirement already satisfied: beautifulsoup4 in /usr/lib/python3/dist-packages (from nbconvert->jupyter) (4.9.3)\n",
      "Requirement already satisfied: nbclient>=0.5.0 in /home/lolnodleech/.local/lib/python3.9/site-packages (from nbconvert->jupyter) (0.6.4)\n",
      "Requirement already satisfied: jupyterlab-pygments in /home/lolnodleech/.local/lib/python3.9/site-packages (from nbconvert->jupyter) (0.2.2)\n",
      "Requirement already satisfied: MarkupSafe>=2.0 in /home/lolnodleech/.local/lib/python3.9/site-packages (from nbconvert->jupyter) (2.1.1)\n",
      "Requirement already satisfied: jsonschema>=2.6 in /home/lolnodleech/.local/lib/python3.9/site-packages (from nbformat->notebook->jupyter) (4.6.1)\n",
      "Requirement already satisfied: fastjsonschema in /home/lolnodleech/.local/lib/python3.9/site-packages (from nbformat->notebook->jupyter) (2.15.3)\n",
      "Requirement already satisfied: attrs>=17.4.0 in /home/lolnodleech/.local/lib/python3.9/site-packages (from jsonschema>=2.6->nbformat->notebook->jupyter) (21.4.0)\n",
      "Requirement already satisfied: pyrsistent!=0.17.0,!=0.17.1,!=0.17.2,>=0.14.0 in /home/lolnodleech/.local/lib/python3.9/site-packages (from jsonschema>=2.6->nbformat->notebook->jupyter) (0.18.1)\n",
      "Requirement already satisfied: ptyprocess in /home/lolnodleech/.local/lib/python3.9/site-packages (from terminado>=0.8.3->notebook->jupyter) (0.7.0)\n",
      "Requirement already satisfied: argon2-cffi-bindings in /home/lolnodleech/.local/lib/python3.9/site-packages (from argon2-cffi->notebook->jupyter) (21.2.0)\n",
      "Requirement already satisfied: cffi>=1.0.1 in /home/lolnodleech/.local/lib/python3.9/site-packages (from argon2-cffi-bindings->argon2-cffi->notebook->jupyter) (1.15.0)\n",
      "Requirement already satisfied: pycparser in /home/lolnodleech/.local/lib/python3.9/site-packages (from cffi>=1.0.1->argon2-cffi-bindings->argon2-cffi->notebook->jupyter) (2.21)\n",
      "Requirement already satisfied: soupsieve>1.2 in /usr/lib/python3/dist-packages (from beautifulsoup4->nbconvert->jupyter) (2.2.1)\n"
     ]
    },
    {
     "name": "stdout",
     "output_type": "stream",
     "text": [
      "Requirement already satisfied: webencodings in /usr/lib/python3/dist-packages (from bleach->nbconvert->jupyter) (0.5.1)\n",
      "Requirement already satisfied: pyparsing!=3.0.5,>=2.0.2 in /home/lolnodleech/.local/lib/python3.9/site-packages (from packaging->ipykernel->jupyter) (3.0.9)\n",
      "Requirement already satisfied: qtpy>=2.0.1 in /home/lolnodleech/.local/lib/python3.9/site-packages (from qtconsole->jupyter) (2.1.0)\n",
      "Requirement already satisfied: executing in /home/lolnodleech/.local/lib/python3.9/site-packages (from stack-data->ipython>=7.23.1->ipykernel->jupyter) (0.8.3)\n",
      "Requirement already satisfied: asttokens in /usr/lib/python3/dist-packages (from stack-data->ipython>=7.23.1->ipykernel->jupyter) (2.0.4)\n",
      "Requirement already satisfied: pure-eval in /home/lolnodleech/.local/lib/python3.9/site-packages (from stack-data->ipython>=7.23.1->ipykernel->jupyter) (0.2.2)\n"
     ]
    }
   ],
   "source": [
    "!python -m pip install jupyter"
   ]
  },
  {
   "cell_type": "markdown",
   "metadata": {},
   "source": [
    "Para ejecutar jupyter notebook fuera de VSCode, abrimos una consola de comando y escribimos: jupyter-notebook"
   ]
  },
  {
   "cell_type": "markdown",
   "metadata": {},
   "source": [
    "Una vez instalado todo el entorno de trabajo pasaremos a crear nuestra primera aplicacion."
   ]
  },
  {
   "cell_type": "markdown",
   "metadata": {},
   "source": [
    "Crearemos un archivo nuevo, llamado hello.py (todos los scripts y todas las aplicaciones python deben guardarse con formato .py)\n",
    "y escribiremos la siguiente linea en el. (Puedes probar el resultado ejecutando el codigo a continuacion)"
   ]
  },
  {
   "cell_type": "code",
   "execution_count": 4,
   "metadata": {},
   "outputs": [
    {
     "name": "stdout",
     "output_type": "stream",
     "text": [
      "Hola, Mundo\n"
     ]
    }
   ],
   "source": [
    "print('Hola, Mundo')"
   ]
  },
  {
   "cell_type": "markdown",
   "metadata": {},
   "source": [
    "Si estas usando VSCode puedes acceder a la consola de comandos en la parte inferior de la pantalla, por otro lado, si estas creando la aplicacion mediante un editor de texto (bloc de notas, notepad++) entonces abre la consola de comandos, situate en la carpeta donde se aguardado el archivo hello.py y escribe el comando:"
   ]
  },
  {
   "cell_type": "code",
   "execution_count": 5,
   "metadata": {},
   "outputs": [
    {
     "name": "stdout",
     "output_type": "stream",
     "text": [
      "Hello, World\r\n"
     ]
    }
   ],
   "source": [
    "!python hello.py"
   ]
  },
  {
   "cell_type": "markdown",
   "metadata": {},
   "source": [
    "Como puedes comprovar, da el mismo resultado que la linea de arriba."
   ]
  },
  {
   "cell_type": "markdown",
   "metadata": {},
   "source": [
    "Usamos la funcion print() para mostrar informacion por consola."
   ]
  },
  {
   "cell_type": "code",
   "execution_count": 6,
   "metadata": {},
   "outputs": [
    {
     "name": "stdout",
     "output_type": "stream",
     "text": [
      "Esto aparece en la consola\n"
     ]
    }
   ],
   "source": [
    "print(\"Esto aparece en la consola\")"
   ]
  },
  {
   "cell_type": "markdown",
   "metadata": {},
   "source": [
    "## Variables"
   ]
  },
  {
   "cell_type": "markdown",
   "metadata": {},
   "source": [
    "Al crear un programa trabajamos con datos. En ocasiones, necesitaremos recordar estos datos, para ello hacemos uso de las variables."
   ]
  },
  {
   "cell_type": "code",
   "execution_count": 7,
   "metadata": {},
   "outputs": [],
   "source": [
    "num1 = 3\n",
    "num2 = 4"
   ]
  },
  {
   "cell_type": "markdown",
   "metadata": {},
   "source": [
    "Para mostrar las variables, usamos la funcion print().\n",
    "En este caso, como tenemos 2 variables, podemos mostrarlas de forma separada llamando 2 veces a la funcion print()"
   ]
  },
  {
   "cell_type": "code",
   "execution_count": 8,
   "metadata": {},
   "outputs": [
    {
     "name": "stdout",
     "output_type": "stream",
     "text": [
      "3\n",
      "4\n"
     ]
    }
   ],
   "source": [
    "print(num1)\n",
    "print(num2)"
   ]
  },
  {
   "cell_type": "markdown",
   "metadata": {},
   "source": [
    "Tambien podemos unirlo todo en una sola llamada a print()\n",
    "(Para concatenar correctamentelas variables y el texto usamos coma , despues de cerrar el texto o despues de una variable)"
   ]
  },
  {
   "cell_type": "code",
   "execution_count": 9,
   "metadata": {},
   "outputs": [
    {
     "name": "stdout",
     "output_type": "stream",
     "text": [
      " 3 \n",
      " 4\n"
     ]
    }
   ],
   "source": [
    "print(\"\",num1,\"\\n\",num2)"
   ]
  },
  {
   "cell_type": "markdown",
   "metadata": {},
   "source": [
    "Podemos calcular la suma en una variable nueva, sobreescribir una de las variables existentes con el nuevo valor, o podemos mostrar el resultado del calculo sin guardarlo en una variable."
   ]
  },
  {
   "cell_type": "code",
   "execution_count": 10,
   "metadata": {},
   "outputs": [
    {
     "name": "stdout",
     "output_type": "stream",
     "text": [
      "7\n"
     ]
    }
   ],
   "source": [
    "print(num1+num2)"
   ]
  },
  {
   "cell_type": "code",
   "execution_count": 11,
   "metadata": {},
   "outputs": [
    {
     "name": "stdout",
     "output_type": "stream",
     "text": [
      "7\n"
     ]
    }
   ],
   "source": [
    "sum = num1 + num2\n",
    "print(sum)"
   ]
  },
  {
   "cell_type": "code",
   "execution_count": 12,
   "metadata": {},
   "outputs": [
    {
     "name": "stdout",
     "output_type": "stream",
     "text": [
      "var numero1:  3\n",
      "var numero2:  4\n",
      "var numero1 modificada:  12\n"
     ]
    }
   ],
   "source": [
    "numero1 = 3\n",
    "numero2 = 4\n",
    "print(\"var numero1: \", numero1)\n",
    "print(\"var numero2: \",numero2)\n",
    "numero1 = numero1 * numero2\n",
    "print(\"var numero1 modificada: \",numero1)"
   ]
  },
  {
   "cell_type": "markdown",
   "metadata": {},
   "source": [
    "## Tipos de datos"
   ]
  },
  {
   "cell_type": "markdown",
   "metadata": {},
   "source": [
    "Una variable asume un tipo de datos. En el programa anterior las variables utilizadas obtienen el tipo int. Existen mas tipos de datos, algunos de ellos son:"
   ]
  },
  {
   "cell_type": "markdown",
   "metadata": {},
   "source": [
    "Tipo numerico: Numeros, con o sin decimales.\n",
    "| int, float, complex, no = 3"
   ]
  },
  {
   "cell_type": "markdown",
   "metadata": {},
   "source": [
    "Tipo de texto: Cadena de caracteres\n",
    "| str = \"una cadena de texto literal\""
   ]
  },
  {
   "cell_type": "markdown",
   "metadata": {},
   "source": [
    "Tipo booleano: Boolean (True o False)\n",
    "| continue = True"
   ]
  },
  {
   "cell_type": "markdown",
   "metadata": {},
   "source": [
    "Podemos asegurarnos del tipo de datos y por ende el tipo de variable que tenemos con la funcion type()"
   ]
  },
  {
   "cell_type": "code",
   "execution_count": 13,
   "metadata": {},
   "outputs": [
    {
     "name": "stdout",
     "output_type": "stream",
     "text": [
      "distance_to_alpha_centauri:  4.367 <class 'float'>\n",
      "planets_in_solar_system:  8 <class 'int'> \n",
      "can_liftoff:  True <class 'bool'> \n",
      "shuttle_landed_on_the_moon:  Apollo 11 <class 'str'>\n"
     ]
    }
   ],
   "source": [
    "# Dentro del codigo podemos escribir comentarios como este\n",
    "# poniendo la almoadilla al del trozo que queremos como comentario\n",
    "planets_in_solar_system = 8 # int\n",
    "distance_to_alpha_centauri = 4.367 # float\n",
    "can_liftoff = True # boolean\n",
    "shuttle_landed_on_the_moon = \"Apollo 11\" # string\n",
    "print(\"distance_to_alpha_centauri: \",distance_to_alpha_centauri,type(distance_to_alpha_centauri))\n",
    "print(\"planets_in_solar_system: \",planets_in_solar_system,type(planets_in_solar_system),\"\\ncan_liftoff: \",can_liftoff,type(can_liftoff),\"\\nshuttle_landed_on_the_moon: \",shuttle_landed_on_the_moon,type(shuttle_landed_on_the_moon))\n"
   ]
  },
  {
   "cell_type": "markdown",
   "metadata": {},
   "source": [
    "## Operadores"
   ]
  },
  {
   "cell_type": "markdown",
   "metadata": {},
   "source": [
    "Los operadores permiten realizar varias operaciones con las variablesy sus valores.\n",
    "La idea principal es:\n",
    "|Lado Izquierdo| -> |Operador| -> |Lado Derecho|"
   ]
  },
  {
   "cell_type": "code",
   "execution_count": 15,
   "metadata": {},
   "outputs": [
    {
     "data": {
      "text/plain": [
       "7"
      ]
     },
     "execution_count": 15,
     "metadata": {},
     "output_type": "execute_result"
    }
   ],
   "source": [
    "#usamos como ejemplo la suma anterior\n",
    "# |lado izq| --> |operador| --> |lado der|\n",
    "num1 + num2"
   ]
  },
  {
   "cell_type": "markdown",
   "metadata": {},
   "source": [
    "### Operadores aritmeticos"
   ]
  },
  {
   "cell_type": "markdown",
   "metadata": {},
   "source": [
    "Con los operadores aritmeticos podemos sumar, restar, multiplicar y dividir.\n",
    "|+| Operador de suma que agrega dos valoresjuntos 1+1"
   ]
  },
  {
   "cell_type": "code",
   "execution_count": 16,
   "metadata": {},
   "outputs": [
    {
     "data": {
      "text/plain": [
       "2"
      ]
     },
     "execution_count": 16,
     "metadata": {},
     "output_type": "execute_result"
    }
   ],
   "source": [
    "1 + 1"
   ]
  },
  {
   "cell_type": "markdown",
   "metadata": {},
   "source": [
    "|-| Operador de resta que quita el valor del lado derecho al iquierdo 2-1"
   ]
  },
  {
   "cell_type": "code",
   "execution_count": 17,
   "metadata": {},
   "outputs": [
    {
     "data": {
      "text/plain": [
       "1"
      ]
     },
     "execution_count": 17,
     "metadata": {},
     "output_type": "execute_result"
    }
   ],
   "source": [
    "2 - 1"
   ]
  },
  {
   "cell_type": "markdown",
   "metadata": {},
   "source": [
    "|* | Operador de multiplicacion 3*3"
   ]
  },
  {
   "cell_type": "code",
   "execution_count": 18,
   "metadata": {},
   "outputs": [
    {
     "data": {
      "text/plain": [
       "9"
      ]
     },
     "execution_count": 18,
     "metadata": {},
     "output_type": "execute_result"
    }
   ],
   "source": [
    "3 * 3"
   ]
  },
  {
   "cell_type": "markdown",
   "metadata": {},
   "source": [
    "|/| Operador de division que divide el lado izquierdo tantas veces como el lado derecho especifica 4/2"
   ]
  },
  {
   "cell_type": "code",
   "execution_count": 19,
   "metadata": {},
   "outputs": [
    {
     "data": {
      "text/plain": [
       "2.0"
      ]
     },
     "execution_count": 19,
     "metadata": {},
     "output_type": "execute_result"
    }
   ],
   "source": [
    "4 / 2"
   ]
  },
  {
   "cell_type": "markdown",
   "metadata": {},
   "source": [
    "### Operadores de asignacion"
   ]
  },
  {
   "cell_type": "markdown",
   "metadata": {},
   "source": [
    "Los operadores de asignacion nos permiten darle valores a las diferentes variables a lo largo de su ciclo de vida."
   ]
  },
  {
   "cell_type": "markdown",
   "metadata": {},
   "source": [
    "|=| Operador de igualdad, permite asignar un valor a una variable"
   ]
  },
  {
   "cell_type": "code",
   "execution_count": 20,
   "metadata": {},
   "outputs": [
    {
     "name": "stdout",
     "output_type": "stream",
     "text": [
      "2\n"
     ]
    }
   ],
   "source": [
    "x = 2\n",
    "print(x)"
   ]
  },
  {
   "cell_type": "markdown",
   "metadata": {},
   "source": [
    "|+=| Operador de incremento, la variable incrementa su valor segun lo que hay en el lado derecho"
   ]
  },
  {
   "cell_type": "code",
   "execution_count": 21,
   "metadata": {},
   "outputs": [
    {
     "name": "stdout",
     "output_type": "stream",
     "text": [
      "2\n",
      "4\n"
     ]
    }
   ],
   "source": [
    "print(x)\n",
    "x+=2\n",
    "print(x)"
   ]
  },
  {
   "cell_type": "markdown",
   "metadata": {},
   "source": [
    "|-=| Operador de sustraccion, la variable se reduce segun el valor que hay en el lado derecho"
   ]
  },
  {
   "cell_type": "code",
   "execution_count": 22,
   "metadata": {},
   "outputs": [
    {
     "name": "stdout",
     "output_type": "stream",
     "text": [
      "4\n",
      "2\n"
     ]
    }
   ],
   "source": [
    "print(x)\n",
    "x -= 2\n",
    "print(x)"
   ]
  },
  {
   "cell_type": "markdown",
   "metadata": {},
   "source": [
    "|/=| Operador de division, la variable se divide por el valor del lado derecho"
   ]
  },
  {
   "cell_type": "code",
   "execution_count": 23,
   "metadata": {},
   "outputs": [
    {
     "name": "stdout",
     "output_type": "stream",
     "text": [
      "2\n",
      "1.0\n"
     ]
    }
   ],
   "source": [
    "print(x)\n",
    "x /= 2\n",
    "print(x)"
   ]
  },
  {
   "cell_type": "markdown",
   "metadata": {},
   "source": [
    "|*=| Operador de multiplicacion, la variable se multiplica por el valor del lado derecho"
   ]
  },
  {
   "cell_type": "code",
   "execution_count": 24,
   "metadata": {},
   "outputs": [
    {
     "name": "stdout",
     "output_type": "stream",
     "text": [
      "1.0\n",
      "2.0\n"
     ]
    }
   ],
   "source": [
    "print(x)\n",
    "x *= 2\n",
    "print(x)"
   ]
  },
  {
   "cell_type": "markdown",
   "metadata": {},
   "source": [
    "## Fechas"
   ]
  },
  {
   "cell_type": "markdown",
   "metadata": {},
   "source": [
    "Al compilar programas, es probable interactuar con fechas, Una fecha en un programa suele indicar tanto la fecha del calendario como la hora.\n",
    "Algunos ejemplos de programas que usan fechas serian Archivos de copia de seguridad, Condiciones y Metricas."
   ]
  },
  {
   "cell_type": "markdown",
   "metadata": {},
   "source": [
    "Para trabajar con fechas debemos importar el modula date"
   ]
  },
  {
   "cell_type": "code",
   "execution_count": 25,
   "metadata": {},
   "outputs": [],
   "source": [
    "from datetime import date"
   ]
  },
  {
   "cell_type": "markdown",
   "metadata": {},
   "source": [
    "Probamos que funcione llamando a la funcion today() para obtener la fecha de hoy."
   ]
  },
  {
   "cell_type": "code",
   "execution_count": 26,
   "metadata": {},
   "outputs": [
    {
     "data": {
      "text/plain": [
       "datetime.date(2022, 6, 29)"
      ]
     },
     "execution_count": 26,
     "metadata": {},
     "output_type": "execute_result"
    }
   ],
   "source": [
    "date.today()"
   ]
  },
  {
   "cell_type": "markdown",
   "metadata": {},
   "source": [
    "Para mostrar la fecha por consola utilizamos la funcion print()"
   ]
  },
  {
   "cell_type": "code",
   "execution_count": 27,
   "metadata": {},
   "outputs": [
    {
     "name": "stdout",
     "output_type": "stream",
     "text": [
      "2022-06-29\n"
     ]
    }
   ],
   "source": [
    "print(date.today())"
   ]
  },
  {
   "cell_type": "markdown",
   "metadata": {},
   "source": [
    "## Conversion de tipos de datos"
   ]
  },
  {
   "cell_type": "markdown",
   "metadata": {},
   "source": [
    "Si queremos mostrar la fecha de hoy por consola junto a algo mas, es posible que ocurra algun problema."
   ]
  },
  {
   "cell_type": "code",
   "execution_count": null,
   "metadata": {},
   "outputs": [],
   "source": [
    "print(\"La fecha de hoy es: \" + date.today())"
   ]
  },
  {
   "cell_type": "code",
   "execution_count": 29,
   "metadata": {},
   "outputs": [
    {
     "name": "stdout",
     "output_type": "stream",
     "text": [
      "La fecha de hoy es: 2022-06-29\n"
     ]
    }
   ],
   "source": [
    "print(\"La fecha de hoy es: \" + str(date.today()))"
   ]
  },
  {
   "cell_type": "code",
   "execution_count": 30,
   "metadata": {},
   "outputs": [
    {
     "name": "stdout",
     "output_type": "stream",
     "text": [
      "La fecha de hoy es:  2022-06-29\n"
     ]
    }
   ],
   "source": [
    "print(\"La fecha de hoy es: \",date.today())"
   ]
  },
  {
   "cell_type": "code",
   "execution_count": null,
   "metadata": {},
   "outputs": [],
   "source": []
  }
 ],
 "metadata": {
  "kernelspec": {
   "display_name": "Python 3 (ipykernel)",
   "language": "python",
   "name": "python3"
  },
  "language_info": {
   "codemirror_mode": {
    "name": "ipython",
    "version": 3
   },
   "file_extension": ".py",
   "mimetype": "text/x-python",
   "name": "python",
   "nbconvert_exporter": "python",
   "pygments_lexer": "ipython3",
   "version": "3.9.2"
  },
  "vscode": {
   "interpreter": {
    "hash": "a94e98a710e4898e5590f8d541be221d12d4005ae4089150d32eddd7ac602efe"
   }
  }
 },
 "nbformat": 4,
 "nbformat_minor": 2
}
